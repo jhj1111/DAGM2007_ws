{
 "cells": [
  {
   "cell_type": "markdown",
   "id": "18a804d3",
   "metadata": {},
   "source": [
    "# 📊 Food101 이미지 분류 프로젝트 (ResNet 활용)\n",
    "\n",
    "## 🔎 개요\n",
    "이 노트북은 Food101 데이터셋을 이용해 이미지 분류를 수행하는 프로젝트입니다.\n",
    "ResNet18/ResNet50을 사용해 학습, 검증, 평가까지 진행합니다."
   ]
  },
  {
   "cell_type": "markdown",
   "id": "24e5f86d",
   "metadata": {},
   "source": [
    "## 🛠️ 주요 작업\n",
    "1. DatasetManager: 데이터셋 로드 및 분할\n",
    "2. ModelTrainer: 학습 및 검증\n",
    "3. Evaluator: 테스트 데이터 평가\n",
    "4. Loss 그래프 시각화\n",
    "5. GitHub 연동 방법"
   ]
  },
  {
   "cell_type": "code",
   "execution_count": null,
   "id": "e600eb63",
   "metadata": {},
   "outputs": [],
   "source": [
    "# 기본 라이브러리 & PyTorch 모듈 임포트\n",
    "import torch, random\n",
    "from torch.utils.data import DataLoader, Subset\n",
    "from torchvision import datasets, transforms, models\n",
    "from sklearn.model_selection import StratifiedShuffleSplit\n",
    "import numpy as np\n",
    "import torch.nn as nn\n",
    "import torch.optim as optim\n",
    "import matplotlib.pyplot as plt\n",
    "import seaborn as sns\n",
    "from sklearn.metrics import confusion_matrix\n",
    "import torchvision.transforms.functional as F"
   ]
  },
  {
   "cell_type": "markdown",
   "id": "2814cd97",
   "metadata": {},
   "source": [
    "## 📊 Dataset Class - Food101DatasetManager\n",
    "Food101DatasetManager 클래스는 데이터셋을 로드하고, train/val/test로 분리하여 DataLoader를 생성하는 역할을 합니다."
   ]
  },
  {
   "cell_type": "code",
   "execution_count": null,
   "id": "eb630de8",
   "metadata": {},
   "outputs": [],
   "source": [
    "class Food101DatasetManager:\n",
    "    \"\"\"\n",
    "    Food101DatasetManager:\n",
    "    - Food101 데이터셋을 불러오고\n",
    "    - StratifiedShuffleSplit로 train/val 분리\n",
    "    - DataLoader로 반환하는 클래스\n",
    "    \"\"\"\n",
    "    def __init__(self, data_dir='./data', val_ratio=0.1, batch_size=32, num_workers=2):\n",
    "        self.data_dir = data_dir\n",
    "        self.val_ratio = val_ratio\n",
    "        self.batch_size = batch_size\n",
    "        self.num_workers = num_workers\n",
    "        self.transform = transforms.Compose([\n",
    "            transforms.Resize((224, 224)),\n",
    "            transforms.ToTensor(),\n",
    "            transforms.Normalize([0.485, 0.456, 0.406], [0.229, 0.224, 0.225])\n",
    "        ])\n",
    "\n",
    "    def load(self):\n",
    "        full_trainset = datasets.Food101(root=self.data_dir, split='train', transform=self.transform, download=True)\n",
    "        testset = datasets.Food101(root=self.data_dir, split='test', transform=self.transform, download=True)\n",
    "        classes = full_trainset.classes\n",
    "\n",
    "        labels = [full_trainset[i][1] for i in range(len(full_trainset))]\n",
    "        sss = StratifiedShuffleSplit(n_splits=1, test_size=self.val_ratio, random_state=42)\n",
    "        train_idx, val_idx = next(sss.split(np.zeros(len(labels)), labels))\n",
    "\n",
    "        train_set = Subset(full_trainset, train_idx)\n",
    "        val_set = Subset(full_trainset, val_idx)\n",
    "\n",
    "        train_loader = DataLoader(train_set, batch_size=self.batch_size, shuffle=True, num_workers=self.num_workers)\n",
    "        val_loader = DataLoader(val_set, batch_size=self.batch_size, shuffle=False, num_workers=self.num_workers)\n",
    "        test_loader = DataLoader(testset, batch_size=self.batch_size, shuffle=False, num_workers=self.num_workers)\n",
    "\n",
    "        return train_loader, val_loader, test_loader, classes"
   ]
  },
  {
   "cell_type": "markdown",
   "id": "52d34e32",
   "metadata": {},
   "source": [
    "## 🏋️ Trainer Class - Food101ModelTrainer\n",
    "모델을 학습하고 검증하는 Trainer 클래스입니다.\n",
    "ResNet18/ResNet50 선택 가능, optimizer와 loss 정의 포함."
   ]
  },
  {
   "cell_type": "code",
   "execution_count": null,
   "id": "30260462",
   "metadata": {},
   "outputs": [],
   "source": [
    "(생략: 위와 동일한 Trainer 코드)"
   ]
  },
  {
   "cell_type": "markdown",
   "id": "bf18b9c4",
   "metadata": {},
   "source": [
    "## 🧪 Evaluator Class - Food101Evaluator\n",
    "테스트셋을 이용한 평가 클래스입니다."
   ]
  },
  {
   "cell_type": "code",
   "execution_count": null,
   "id": "36862328",
   "metadata": {},
   "outputs": [],
   "source": [
    "(생략: 위와 동일한 Evaluator 코드)"
   ]
  },
  {
   "cell_type": "markdown",
   "id": "0469566c",
   "metadata": {},
   "source": [
    "## 📉 Loss 시각화"
   ]
  },
  {
   "cell_type": "code",
   "execution_count": null,
   "id": "df58f681",
   "metadata": {},
   "outputs": [],
   "source": [
    "# Trainer 내부에서 기록한 train_losses, val_losses 이용 (예시)\n",
    "trainer = Food101ModelTrainer(train_loader, val_loader, classes)\n",
    "trainer.train(epochs=5)  # 예시\n",
    "\n",
    "plt.figure(figsize=(10, 5))\n",
    "plt.plot(range(1, len(trainer.train_losses)+1), trainer.train_losses, label='Train Loss')\n",
    "plt.plot(range(1, len(trainer.val_losses)+1), trainer.val_losses, label='Validation Loss')\n",
    "plt.xlabel('Epoch')\n",
    "plt.ylabel('Loss')\n",
    "plt.title('Train vs Validation Loss')\n",
    "plt.legend()\n",
    "plt.show()"
   ]
  },
  {
   "cell_type": "markdown",
   "id": "1865876e",
   "metadata": {},
   "source": [
    "## 🔗 GitHub 연동 (Colab 기준)\n",
    "\n",
    "1. Google Drive 마운트\n",
    "2. Git 설정 및 레포지토리 클론\n",
    "3. 작업 후 Git Push"
   ]
  }
 ],
 "metadata": {},
 "nbformat": 4,
 "nbformat_minor": 5
}
